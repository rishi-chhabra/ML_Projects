{
 "cells": [
  {
   "cell_type": "markdown",
   "metadata": {},
   "source": [
    "Name: Rishi Chhabra\n",
    "Subject : Text Mining and Infomation Retrieval\n",
    "Date: 10/24/2024\n"
   ]
  },
  {
   "cell_type": "markdown",
   "metadata": {},
   "source": [
    "Loading the Datasets"
   ]
  },
  {
   "cell_type": "code",
   "execution_count": 14,
   "metadata": {},
   "outputs": [
    {
     "name": "stdout",
     "output_type": "stream",
     "text": [
      "Cloning into 'cs589assignment1'...\n",
      "remote: Enumerating objects: 23, done.\u001b[K\n",
      "remote: Counting objects: 100% (2/2), done.\u001b[K\n",
      "remote: Compressing objects: 100% (2/2), done.\u001b[K\n",
      "remote: Total 23 (delta 0), reused 2 (delta 0), pack-reused 21 (from 1)\u001b[K\n",
      "Receiving objects: 100% (23/23), 109.22 MiB | 14.03 MiB/s, done.\n",
      "Resolving deltas: 100% (3/3), done.\n",
      "Archive:  cs589assignment1/dataset/javascript.zip\n",
      "   creating: cs589assignment1/dataset/javascript/\n",
      "  inflating: cs589assignment1/dataset/javascript/javascript_test_qid.txt  \n",
      "  inflating: cs589assignment1/dataset/javascript/javascript_qid2all.txt  \n",
      "  inflating: cs589assignment1/dataset/javascript/javascript_cosidf.txt  \n",
      "\n",
      "Archive:  cs589assignment1/dataset/java.zip\n",
      "   creating: cs589assignment1/dataset/java/\n",
      "  inflating: cs589assignment1/dataset/java/java_test_qid.txt  \n",
      "  inflating: cs589assignment1/dataset/java/java_cosidf.txt  \n",
      "  inflating: cs589assignment1/dataset/java/java_qid2all.txt  \n",
      "\n",
      "Archive:  cs589assignment1/dataset/python.zip\n",
      "   creating: cs589assignment1/dataset/python/\n",
      "  inflating: cs589assignment1/dataset/python/python_test_qid.txt  \n",
      "  inflating: cs589assignment1/dataset/python/python_cosidf.txt  \n",
      "  inflating: cs589assignment1/dataset/python/python_qid2all.txt  \n",
      "\n",
      "3 archives were successfully processed.\n"
     ]
    }
   ],
   "source": [
    "\n",
    "! git clone https://github.com/guanqun-yang/cs589assignment1.git\n",
    "! unzip \"cs589assignment1/dataset/*.zip\" -d cs589assignment1/dataset\n",
    "! mv cs589assignment1/dataset/java .\n",
    "! mv cs589assignment1/dataset/python .\n",
    "! mv cs589assignment1/dataset/javascript .\n"
   ]
  },
  {
   "cell_type": "markdown",
   "metadata": {},
   "source": [
    "Commandline Commands for Running Kibana and Elastic Search"
   ]
  },
  {
   "cell_type": "code",
   "execution_count": 15,
   "metadata": {},
   "outputs": [],
   "source": [
    "# Using kibana-7.9.0 and elastic search-7.9.0\n",
    "# (base) rishichhabra@MacBookAir Assignment-2 % cd kibana-7.9.0-darwin-x86_64/bin\n",
    "# ./kibana      \n",
    "# (base) rishichhabra@MacBookAir Assignment-2 % cd elasticsearch-7.9.0/bin       \n",
    "# ./elasticsearch"
   ]
  },
  {
   "cell_type": "code",
   "execution_count": 16,
   "metadata": {},
   "outputs": [],
   "source": [
    "# DLM - Dirichlet Language Model configuration\n",
    "DLM = {\n",
    "    \"analysis\": {\n",
    "        \"analyzer\": {\n",
    "            \"my_analyzer\": {\n",
    "                \"tokenizer\": \"whitespace\",\n",
    "                \"filter\": [\n",
    "                    \"lowercase\",\n",
    "                    \"porter_stem\"\n",
    "                ]\n",
    "            }\n",
    "        }\n",
    "    },\n",
    "    \"index\": {\n",
    "        \"similarity\": {\n",
    "            \"default\": {\n",
    "                \"type\": \"LMDirichlet\"\n",
    "            }\n",
    "        }\n",
    "    }\n",
    "}\n",
    "\n",
    "# BM25 configuration\n",
    "BM25 = {\n",
    "    \"analysis\": {\n",
    "        \"analyzer\": {\n",
    "            \"my_analyzer\": {\n",
    "                \"tokenizer\": \"whitespace\",\n",
    "                \"filter\": [\n",
    "                    \"lowercase\",\n",
    "                    \"porter_stem\"\n",
    "                ]\n",
    "            }\n",
    "        }\n",
    "    },\n",
    "    \"index\": {\n",
    "        \"similarity\": {\n",
    "            \"default\": {\n",
    "                \"type\": \"BM25\"\n",
    "            }\n",
    "        }\n",
    "    }\n",
    "}\n",
    "\n",
    "# TF-IDF configuration\n",
    "TFIDF = {\n",
    "    \"number_of_shards\": 1,\n",
    "    \"analysis\": {\n",
    "        \"analyzer\": {\n",
    "            \"my_analyzer\": {\n",
    "                \"tokenizer\": \"whitespace\",\n",
    "                \"filter\": [\n",
    "                    \"lowercase\",\n",
    "                    \"porter_stem\"\n",
    "                ]\n",
    "            }\n",
    "        }\n",
    "    },\n",
    "    \"index\": {\n",
    "        \"similarity\": {\n",
    "            \"scripted_tfidf\": {\n",
    "                \"type\": \"scripted\",\n",
    "                \"weight_script\": {\n",
    "                    \"source\": \"double idf = Math.log((field.docCount+1.0)/(term.docFreq+1.0)) + 1.0; return query.boost * idf;\"\n",
    "                },\n",
    "                \"script\": {\n",
    "                    \"source\": \"double tf = Math.sqrt(doc.freq); double norm = 1/Math.sqrt(doc.length); return weight * tf * norm;\"\n",
    "                }\n",
    "            }\n",
    "        }\n",
    "    }\n",
    "}\n",
    "\n",
    "map = {\n",
    "    \"properties\": {\n",
    "        \"title\": {\n",
    "            \"type\": \"text\",\n",
    "            \"analyzer\": \"my_analyzer\"\n",
    "        },\n",
    "        \"body\": {\n",
    "            \"type\": \"text\",\n",
    "            \"analyzer\": \"my_analyzer\"\n",
    "        },\n",
    "        \"answer\": {\n",
    "            \"type\": \"text\",\n",
    "            \"analyzer\": \"my_analyzer\"\n",
    "        }\n",
    "    }\n",
    "}\n",
    "\n",
    "# Base URL for Elasticsearch\n",
    "baseURL = \"http://localhost:9200/\"\n",
    "# Languages to be indexed\n",
    "langs = [\"python\", \"java\", \"javascript\"]\n",
    "indices = {\"dlm\": DLM, \"bm25\": BM25, \"tfidf\": TFIDF}\n",
    "\n",
    "# Dirichlet Language Model (DLM)\n",
    "# This model estimates the likelihood of a query being generated from a document.\n",
    "# It uses Dirichlet smoothing to adjust for zero-frequency terms in the document.\n",
    "# Smoothing ensures that unseen words get a non-zero probability.\n",
    "\n",
    "# BM25 (Best Matching 25)\n",
    "# BM25 is a probabilistic ranking function that ranks documents based on the term frequency (TF),\n",
    "# inverse document frequency (IDF), and document length normalization.\n",
    "# It’s a common algorithm for document retrieval, balancing relevance by penalizing overuse of terms.\n",
    "\n",
    "# TF-IDF (Term Frequency-Inverse Document Frequency)\n",
    "# TF-IDF weighs terms based on their frequency in a document relative to their frequency across all documents.\n",
    "# It assigns higher importance to rare terms. This version uses scripted fields for flexibility in custom implementations.\n"
   ]
  },
  {
   "cell_type": "code",
   "execution_count": 17,
   "metadata": {},
   "outputs": [
    {
     "name": "stdout",
     "output_type": "stream",
     "text": [
      "{'acknowledged': True}\n",
      "{'acknowledged': True, 'shards_acknowledged': True, 'index': 'python_dlm'}\n",
      "{'acknowledged': True, 'shards_acknowledged': True, 'index': 'python_bm25'}\n",
      "{'acknowledged': True, 'shards_acknowledged': True, 'index': 'python_tfidf'}\n",
      "{'acknowledged': True, 'shards_acknowledged': True, 'index': 'java_dlm'}\n",
      "{'acknowledged': True, 'shards_acknowledged': True, 'index': 'java_bm25'}\n",
      "{'acknowledged': True, 'shards_acknowledged': True, 'index': 'java_tfidf'}\n",
      "{'acknowledged': True, 'shards_acknowledged': True, 'index': 'javascript_dlm'}\n",
      "{'acknowledged': True, 'shards_acknowledged': True, 'index': 'javascript_bm25'}\n",
      "{'acknowledged': True, 'shards_acknowledged': True, 'index': 'javascript_tfidf'}\n"
     ]
    }
   ],
   "source": [
    "import requests\n",
    "response = requests.delete(baseURL+\"_all\")\n",
    "print(response.json())\n",
    "for lang in langs:\n",
    "    for name, settings in indices.items():\n",
    "        url = baseURL+lang+\"_\"+name\n",
    "        data = {\"settings\": settings, \"mappings\": map}\n",
    "        response = requests.put(url, json=data)\n",
    "        print(response.json())"
   ]
  },
  {
   "cell_type": "code",
   "execution_count": 18,
   "metadata": {},
   "outputs": [
    {
     "data": {
      "application/vnd.jupyter.widget-view+json": {
       "model_id": "9856056d2f0e44bcbb60e6fff0c23850",
       "version_major": 2,
       "version_minor": 0
      },
      "text/plain": [
       "  0%|          | 0/3 [00:00<?, ?it/s]"
      ]
     },
     "metadata": {},
     "output_type": "display_data"
    },
    {
     "data": {
      "application/vnd.jupyter.widget-view+json": {
       "model_id": "78a2de821bec496e9044ab48dcefbfa6",
       "version_major": 2,
       "version_minor": 0
      },
      "text/plain": [
       "0it [00:00, ?it/s]"
      ]
     },
     "metadata": {},
     "output_type": "display_data"
    },
    {
     "data": {
      "application/vnd.jupyter.widget-view+json": {
       "model_id": "41a2c9baa36145c4aa6baf539067e6cf",
       "version_major": 2,
       "version_minor": 0
      },
      "text/plain": [
       "0it [00:00, ?it/s]"
      ]
     },
     "metadata": {},
     "output_type": "display_data"
    },
    {
     "data": {
      "application/vnd.jupyter.widget-view+json": {
       "model_id": "2cb49a42cca448a292818d9dc449aba9",
       "version_major": 2,
       "version_minor": 0
      },
      "text/plain": [
       "0it [00:00, ?it/s]"
      ]
     },
     "metadata": {},
     "output_type": "display_data"
    },
    {
     "data": {
      "application/vnd.jupyter.widget-view+json": {
       "model_id": "81b43e5d40314142ba8e286e15758742",
       "version_major": 2,
       "version_minor": 0
      },
      "text/plain": [
       "0it [00:00, ?it/s]"
      ]
     },
     "metadata": {},
     "output_type": "display_data"
    },
    {
     "data": {
      "application/vnd.jupyter.widget-view+json": {
       "model_id": "bed3b6f52cdc4089bc77e1da2e09eb96",
       "version_major": 2,
       "version_minor": 0
      },
      "text/plain": [
       "0it [00:00, ?it/s]"
      ]
     },
     "metadata": {},
     "output_type": "display_data"
    },
    {
     "data": {
      "application/vnd.jupyter.widget-view+json": {
       "model_id": "ccd8cb6c8ee0448eadb8c34236417a9c",
       "version_major": 2,
       "version_minor": 0
      },
      "text/plain": [
       "0it [00:00, ?it/s]"
      ]
     },
     "metadata": {},
     "output_type": "display_data"
    }
   ],
   "source": [
    "import pandas as pd\n",
    "import json\n",
    "import math\n",
    "from tqdm.autonotebook import tqdm\n",
    "import os\n",
    "\n",
    "qids_missing_data = {}\n",
    "langs = [\"python\", \"java\", \"javascript\"]\n",
    "\n",
    "for lang in tqdm(langs):\n",
    "    qidmap = pd.read_csv(f\"{lang}/{lang}_qid2all.txt\", sep=\"\\t\", header=None)\n",
    "    qidmap.columns = [\"id\", \"title\", \"body\", \"answer\"]\n",
    "    qids_missing_data[lang] = qidmap[qidmap.isnull().any(axis=1)][\"id\"].tolist()\n",
    "    qidmap.dropna(inplace=True)\n",
    "    half = len(qidmap) // 2\n",
    "    with open(f\"{lang}1.json\", \"w\") as ljson:\n",
    "        json_lines = []\n",
    "        for row in tqdm(qidmap.iloc[:half].itertuples(index=False), leave=False):\n",
    "            json_lines.append(json.dumps({\"index\": {\"_id\": row.id}}) + \"\\n\")\n",
    "            json_lines.append(json.dumps({col: getattr(row, col) for col in qidmap.columns if col != \"id\"}) + \"\\n\")\n",
    "        ljson.writelines(json_lines)\n",
    "    with open(f\"{lang}2.json\", \"w\") as ljson:\n",
    "        json_lines = []\n",
    "        for row in tqdm(qidmap.iloc[half:].itertuples(index=False), leave=False):\n",
    "            json_lines.append(json.dumps({\"index\": {\"_id\": row.id}}) + \"\\n\")\n",
    "            json_lines.append(json.dumps({col: getattr(row, col) for col in qidmap.columns if col != \"id\"}) + \"\\n\")\n",
    "        ljson.writelines(json_lines)\n",
    "\n",
    "\n",
    "# Initialize empty data structures and define the programming languages.\n",
    "# For each language:\n",
    "# Read the data from a file (qid2all.txt).\n",
    "# Find any rows with missing data and store the corresponding IDs.\n",
    "# Remove rows with missing data.\n",
    "# Split the data into two halves.\n",
    "# Creating two JSON files for Elasticsearch bulk indexing:\n",
    "# Each JSON file contains an indexing command followed by the document's content for each row, structured for bulk operations."
   ]
  },
  {
   "cell_type": "markdown",
   "metadata": {},
   "source": [
    "Using curl to Bulk indexes"
   ]
  },
  {
   "cell_type": "code",
   "execution_count": 19,
   "metadata": {},
   "outputs": [
    {
     "data": {
      "application/vnd.jupyter.widget-view+json": {
       "model_id": "f635b37fd42e49828a6bf62e804d429a",
       "version_major": 2,
       "version_minor": 0
      },
      "text/plain": [
       "  0%|          | 0/3 [00:00<?, ?it/s]"
      ]
     },
     "metadata": {},
     "output_type": "display_data"
    },
    {
     "data": {
      "application/vnd.jupyter.widget-view+json": {
       "model_id": "fa6bfb3eac964d2292f6fc98e7b39a17",
       "version_major": 2,
       "version_minor": 0
      },
      "text/plain": [
       "  0%|          | 0/3 [00:00<?, ?it/s]"
      ]
     },
     "metadata": {},
     "output_type": "display_data"
    },
    {
     "data": {
      "application/vnd.jupyter.widget-view+json": {
       "model_id": "a1742bb56b0b47e8bba0c3fbf11b7149",
       "version_major": 2,
       "version_minor": 0
      },
      "text/plain": [
       "  0%|          | 0/3 [00:00<?, ?it/s]"
      ]
     },
     "metadata": {},
     "output_type": "display_data"
    },
    {
     "data": {
      "application/vnd.jupyter.widget-view+json": {
       "model_id": "d453972f25c345b7be4c200e5d04e6f4",
       "version_major": 2,
       "version_minor": 0
      },
      "text/plain": [
       "  0%|          | 0/3 [00:00<?, ?it/s]"
      ]
     },
     "metadata": {},
     "output_type": "display_data"
    },
    {
     "name": "stdout",
     "output_type": "stream",
     "text": [
      "Run Success!!!!!!\n"
     ]
    }
   ],
   "source": [
    "for lang in tqdm(langs):\n",
    "    for index in tqdm(indices.keys(), leave=False):\n",
    "        for i in range(1,3):\n",
    "            url = baseURL+lang+\"_\"+index+\"/_doc/_bulk\"\n",
    "            file = \"@\" + lang + str(i) + \".json\"\n",
    "            !curl -s -H \"Content-Type: application/json\" -XPOST {url} --data-binary {file} >> curl.log\n",
    "print(\"Run Success!!!!!!\")"
   ]
  },
  {
   "cell_type": "markdown",
   "metadata": {},
   "source": [
    "Ranking Function for computing ratings for each language"
   ]
  },
  {
   "cell_type": "code",
   "execution_count": 20,
   "metadata": {},
   "outputs": [
    {
     "data": {
      "application/vnd.jupyter.widget-view+json": {
       "model_id": "5684f75e962c41eaa4c4161327b98be6",
       "version_major": 2,
       "version_minor": 0
      },
      "text/plain": [
       "  0%|          | 0/3 [00:00<?, ?it/s]"
      ]
     },
     "metadata": {},
     "output_type": "display_data"
    },
    {
     "data": {
      "application/vnd.jupyter.widget-view+json": {
       "model_id": "4247ea4f50584110ac013c2c8dbf9157",
       "version_major": 2,
       "version_minor": 0
      },
      "text/plain": [
       "  0%|          | 0/3 [00:00<?, ?it/s]"
      ]
     },
     "metadata": {},
     "output_type": "display_data"
    },
    {
     "data": {
      "application/vnd.jupyter.widget-view+json": {
       "model_id": "3e937adef7e24ece8aae47c751997916",
       "version_major": 2,
       "version_minor": 0
      },
      "text/plain": [
       "  0%|          | 0/6410 [00:00<?, ?it/s]"
      ]
     },
     "metadata": {},
     "output_type": "display_data"
    },
    {
     "data": {
      "application/vnd.jupyter.widget-view+json": {
       "model_id": "388d689feaed48b8b154834bfc071244",
       "version_major": 2,
       "version_minor": 0
      },
      "text/plain": [
       "  0%|          | 0/6410 [00:00<?, ?it/s]"
      ]
     },
     "metadata": {},
     "output_type": "display_data"
    },
    {
     "data": {
      "application/vnd.jupyter.widget-view+json": {
       "model_id": "756018d454394fe29b6fe03ffe3a9c56",
       "version_major": 2,
       "version_minor": 0
      },
      "text/plain": [
       "  0%|          | 0/6410 [00:00<?, ?it/s]"
      ]
     },
     "metadata": {},
     "output_type": "display_data"
    },
    {
     "data": {
      "application/vnd.jupyter.widget-view+json": {
       "model_id": "b9a62f151b024dbda5ad4a5b4a88b0aa",
       "version_major": 2,
       "version_minor": 0
      },
      "text/plain": [
       "  0%|          | 0/3 [00:00<?, ?it/s]"
      ]
     },
     "metadata": {},
     "output_type": "display_data"
    },
    {
     "data": {
      "application/vnd.jupyter.widget-view+json": {
       "model_id": "3e98e406bc56487387792b305ce87953",
       "version_major": 2,
       "version_minor": 0
      },
      "text/plain": [
       "  0%|          | 0/8448 [00:00<?, ?it/s]"
      ]
     },
     "metadata": {},
     "output_type": "display_data"
    },
    {
     "data": {
      "application/vnd.jupyter.widget-view+json": {
       "model_id": "846175ce9b79457d8e2e66dbe88f51ec",
       "version_major": 2,
       "version_minor": 0
      },
      "text/plain": [
       "  0%|          | 0/8448 [00:00<?, ?it/s]"
      ]
     },
     "metadata": {},
     "output_type": "display_data"
    },
    {
     "data": {
      "application/vnd.jupyter.widget-view+json": {
       "model_id": "6eaacdefc351432e989cc9d52f714f93",
       "version_major": 2,
       "version_minor": 0
      },
      "text/plain": [
       "  0%|          | 0/8448 [00:00<?, ?it/s]"
      ]
     },
     "metadata": {},
     "output_type": "display_data"
    },
    {
     "data": {
      "application/vnd.jupyter.widget-view+json": {
       "model_id": "32a5134c1b9246f49630599b6f35b999",
       "version_major": 2,
       "version_minor": 0
      },
      "text/plain": [
       "  0%|          | 0/3 [00:00<?, ?it/s]"
      ]
     },
     "metadata": {},
     "output_type": "display_data"
    },
    {
     "data": {
      "application/vnd.jupyter.widget-view+json": {
       "model_id": "88a9bef293b344aca7bbbeac79b55788",
       "version_major": 2,
       "version_minor": 0
      },
      "text/plain": [
       "  0%|          | 0/8069 [00:00<?, ?it/s]"
      ]
     },
     "metadata": {},
     "output_type": "display_data"
    },
    {
     "data": {
      "application/vnd.jupyter.widget-view+json": {
       "model_id": "919ad0c399c844acbe6ea71b467abb78",
       "version_major": 2,
       "version_minor": 0
      },
      "text/plain": [
       "  0%|          | 0/8069 [00:00<?, ?it/s]"
      ]
     },
     "metadata": {},
     "output_type": "display_data"
    },
    {
     "data": {
      "application/vnd.jupyter.widget-view+json": {
       "model_id": "400c5fee13454039b28fe082a2b110c7",
       "version_major": 2,
       "version_minor": 0
      },
      "text/plain": [
       "  0%|          | 0/8069 [00:00<?, ?it/s]"
      ]
     },
     "metadata": {},
     "output_type": "display_data"
    }
   ],
   "source": [
    "import os\n",
    "for lang in tqdm(langs):\n",
    "    for index in tqdm(indices.keys(), leave=False):\n",
    "        os.makedirs(lang+\"_\"+index+\"_ratings/\", exist_ok=True)\n",
    "        cosidf = pd.read_csv(lang+\"/\"+lang+\"_cosidf.txt\", sep=\"\\t\", header=0)\n",
    "        for qid1 in tqdm(cosidf.qid1.unique(), leave=False):\n",
    "            if qid1 in qids_missing_data[lang]:\n",
    "                continue\n",
    "            ratings = []\n",
    "            qid2s = cosidf.loc[cosidf.qid1 == qid1]\n",
    "            for qid2 in qid2s.itertuples():\n",
    "                if qid2 in qids_missing_data[lang]:\n",
    "                    continue\n",
    "                ratings.append({\"_index\": lang+\"_\"+index, \"_id\":str(qid2.qid2), \"rating\": int(qid2.label)})\n",
    "            with open(lang+\"_\"+index+\"_ratings/\"+str(qid1)+\".json\",\"w\") as rf:\n",
    "                rf.seek(0)\n",
    "                rf.truncate(0)\n",
    "                json.dump(ratings, rf, indent=1)\n",
    "    "
   ]
  },
  {
   "cell_type": "markdown",
   "metadata": {},
   "source": [
    "NCDG@10 function"
   ]
  },
  {
   "cell_type": "code",
   "execution_count": 21,
   "metadata": {},
   "outputs": [],
   "source": [
    "from elasticsearch import Elasticsearch\n",
    "import numpy as np\n",
    "\n",
    "def ranking(qid1, qid1_title, ratings):\n",
    "    _search = {\n",
    "        \"requests\": [\n",
    "            {\n",
    "                \"id\": str(qid1),\n",
    "                \"request\": {\n",
    "                    \"query\": {\n",
    "                        \"bool\": {\n",
    "                            \"must_not\": {\n",
    "                                \"match\": {\n",
    "                                    \"_id\": qid1\n",
    "                                }\n",
    "                            },\n",
    "                            \"should\": [\n",
    "                                {\n",
    "                                    \"match\" : {\n",
    "                                        \"title\": {\n",
    "                                            \"query\": qid1_title,\n",
    "                                            \"boost\": 3.0,\n",
    "                                            \"analyzer\": \"my_analyzer\"\n",
    "                                }}},\n",
    "                                {\n",
    "                                    \"match\" : {\n",
    "                                        \"body\": {\n",
    "                                            \"query\": qid1_title,\n",
    "                                            \"boost\": 3.0,\n",
    "                                            \"analyzer\": \"my_analyzer\"\n",
    "                                }}},\n",
    "                                {\n",
    "                                    \"match\" : {\n",
    "                                        \"answer\": {\n",
    "                                            \"query\": qid1_title,\n",
    "                                            \"boost\": 3.0,\n",
    "                                            \"analyzer\": \"my_analyzer\"\n",
    "                                }}}\n",
    "                            ]}}\n",
    "                },\n",
    "                \"ratings\": ratings\n",
    "            }\n",
    "        ],\n",
    "        \"metric\":{\n",
    "            \"dcg\":{\n",
    "               \"k\": 10,\n",
    "               \"normalize\": True \n",
    "            }\n",
    "        }\n",
    "    }\n",
    "    return _search\n",
    "\n",
    "def ndcg(index, lang):\n",
    "    cosidf = pd.read_csv(lang+\"/\"+lang+\"_cosidf.txt\", sep=\"\\t\", header=0)\n",
    "    es = Elasticsearch()\n",
    "    ndcg_list=[]\n",
    "    for qid1 in tqdm(cosidf.qid1.unique(),leave=False):\n",
    "        if qid1 in qids_missing_data[lang]:\n",
    "            continue\n",
    "        qid1_title = es.get(index=lang+\"_\"+index, doc_type=\"_doc\", id=qid1)[\"_source\"][\"title\"]\n",
    "        with open(lang+\"_\"+index+\"_ratings/\"+str(qid1)+\".json\",\"r\") as rf:\n",
    "            ratings = json.load(rf)\n",
    "            _search = ranking(qid1, qid1_title, ratings)\n",
    "            result = es.rank_eval(index=lang+\"_\"+index, body=_search)\n",
    "            ndcg = result[\"metric_score\"]\n",
    "            ndcg_list.append(ndcg)\n",
    "    return np.mean(np.array(ndcg_list))"
   ]
  },
  {
   "cell_type": "markdown",
   "metadata": {},
   "source": [
    "Report Generation"
   ]
  },
  {
   "cell_type": "code",
   "execution_count": 22,
   "metadata": {},
   "outputs": [
    {
     "data": {
      "application/vnd.jupyter.widget-view+json": {
       "model_id": "ef9eda8ca4f14e0ca075c40158b4298c",
       "version_major": 2,
       "version_minor": 0
      },
      "text/plain": [
       "  0%|          | 0/3 [00:00<?, ?it/s]"
      ]
     },
     "metadata": {},
     "output_type": "display_data"
    },
    {
     "data": {
      "application/vnd.jupyter.widget-view+json": {
       "model_id": "a8e6c510058f4fc2919fd0b005e61d92",
       "version_major": 2,
       "version_minor": 0
      },
      "text/plain": [
       "  0%|          | 0/3 [00:00<?, ?it/s]"
      ]
     },
     "metadata": {},
     "output_type": "display_data"
    },
    {
     "data": {
      "application/vnd.jupyter.widget-view+json": {
       "model_id": "ddc2dd329b884779a2f2c8fa9bbdd7ae",
       "version_major": 2,
       "version_minor": 0
      },
      "text/plain": [
       "  0%|          | 0/6410 [00:00<?, ?it/s]"
      ]
     },
     "metadata": {},
     "output_type": "display_data"
    },
    {
     "data": {
      "application/vnd.jupyter.widget-view+json": {
       "model_id": "268da06d5890426bbe5f8e447cc86aab",
       "version_major": 2,
       "version_minor": 0
      },
      "text/plain": [
       "  0%|          | 0/6410 [00:00<?, ?it/s]"
      ]
     },
     "metadata": {},
     "output_type": "display_data"
    },
    {
     "data": {
      "application/vnd.jupyter.widget-view+json": {
       "model_id": "9d2714907a2d4a5aa50045abdff0b995",
       "version_major": 2,
       "version_minor": 0
      },
      "text/plain": [
       "  0%|          | 0/6410 [00:00<?, ?it/s]"
      ]
     },
     "metadata": {},
     "output_type": "display_data"
    },
    {
     "data": {
      "application/vnd.jupyter.widget-view+json": {
       "model_id": "a8655578954c4c2382f44479e21ba403",
       "version_major": 2,
       "version_minor": 0
      },
      "text/plain": [
       "  0%|          | 0/3 [00:00<?, ?it/s]"
      ]
     },
     "metadata": {},
     "output_type": "display_data"
    },
    {
     "data": {
      "application/vnd.jupyter.widget-view+json": {
       "model_id": "e19b0aee60214ba8bce962244129163b",
       "version_major": 2,
       "version_minor": 0
      },
      "text/plain": [
       "  0%|          | 0/8448 [00:00<?, ?it/s]"
      ]
     },
     "metadata": {},
     "output_type": "display_data"
    },
    {
     "data": {
      "application/vnd.jupyter.widget-view+json": {
       "model_id": "9a391cf196f54ba58e57927a3b99a46a",
       "version_major": 2,
       "version_minor": 0
      },
      "text/plain": [
       "  0%|          | 0/8448 [00:00<?, ?it/s]"
      ]
     },
     "metadata": {},
     "output_type": "display_data"
    },
    {
     "data": {
      "application/vnd.jupyter.widget-view+json": {
       "model_id": "bba325c534d947ae8d9606b6add4bc15",
       "version_major": 2,
       "version_minor": 0
      },
      "text/plain": [
       "  0%|          | 0/8448 [00:00<?, ?it/s]"
      ]
     },
     "metadata": {},
     "output_type": "display_data"
    },
    {
     "data": {
      "application/vnd.jupyter.widget-view+json": {
       "model_id": "62af001bcb9648028ceef0095898ab9f",
       "version_major": 2,
       "version_minor": 0
      },
      "text/plain": [
       "  0%|          | 0/3 [00:00<?, ?it/s]"
      ]
     },
     "metadata": {},
     "output_type": "display_data"
    },
    {
     "data": {
      "application/vnd.jupyter.widget-view+json": {
       "model_id": "b076352d726c4c4f81d4c7c8cfdedd39",
       "version_major": 2,
       "version_minor": 0
      },
      "text/plain": [
       "  0%|          | 0/8069 [00:00<?, ?it/s]"
      ]
     },
     "metadata": {},
     "output_type": "display_data"
    },
    {
     "data": {
      "application/vnd.jupyter.widget-view+json": {
       "model_id": "c0ff1680378045b39836509f65db9c94",
       "version_major": 2,
       "version_minor": 0
      },
      "text/plain": [
       "  0%|          | 0/8069 [00:00<?, ?it/s]"
      ]
     },
     "metadata": {},
     "output_type": "display_data"
    },
    {
     "data": {
      "application/vnd.jupyter.widget-view+json": {
       "model_id": "b9b91c8cff5642db81f6e80b89e146b2",
       "version_major": 2,
       "version_minor": 0
      },
      "text/plain": [
       "  0%|          | 0/8069 [00:00<?, ?it/s]"
      ]
     },
     "metadata": {},
     "output_type": "display_data"
    }
   ],
   "source": [
    "with open(\"report.txt\", \"w+\") as report:\n",
    "    report.seek(0)\n",
    "    report.truncate(0)\n",
    "    report.write(\"Name: Rishi Chhabra\\n\")\n",
    "    report.write(\"Date: 10/24/2024\\n\")\n",
    "    for lang in tqdm(langs):\n",
    "        report.write(\"Lang: \"+lang+\"\\n\")\n",
    "        for index in tqdm(indices.keys(), leave=False):\n",
    "            report.write(\"\\t\"+index+\": NDCG@10=\"+str(ndcg(index, lang))+\"\\n\")"
   ]
  }
 ],
 "metadata": {
  "kernelspec": {
   "display_name": "base",
   "language": "python",
   "name": "python3"
  },
  "language_info": {
   "codemirror_mode": {
    "name": "ipython",
    "version": 3
   },
   "file_extension": ".py",
   "mimetype": "text/x-python",
   "name": "python",
   "nbconvert_exporter": "python",
   "pygments_lexer": "ipython3",
   "version": "3.12.4"
  }
 },
 "nbformat": 4,
 "nbformat_minor": 2
}
